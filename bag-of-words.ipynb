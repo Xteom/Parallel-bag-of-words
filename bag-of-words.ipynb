{
 "cells": [
  {
   "cell_type": "code",
   "execution_count": 1,
   "metadata": {},
   "outputs": [],
   "source": [
    "import pandas as pd\n",
    "import numpy as np\n",
    "import re\n",
    "import nltk\n",
    "import matplotlib.pyplot as plt"
   ]
  },
  {
   "cell_type": "markdown",
   "metadata": {},
   "source": [
    "# Corpus etiquetado"
   ]
  },
  {
   "cell_type": "code",
   "execution_count": 2,
   "metadata": {},
   "outputs": [
    {
     "data": {
      "text/html": [
       "<div>\n",
       "<style scoped>\n",
       "    .dataframe tbody tr th:only-of-type {\n",
       "        vertical-align: middle;\n",
       "    }\n",
       "\n",
       "    .dataframe tbody tr th {\n",
       "        vertical-align: top;\n",
       "    }\n",
       "\n",
       "    .dataframe thead th {\n",
       "        text-align: right;\n",
       "    }\n",
       "</style>\n",
       "<table border=\"1\" class=\"dataframe\">\n",
       "  <thead>\n",
       "    <tr style=\"text-align: right;\">\n",
       "      <th></th>\n",
       "      <th>documento</th>\n",
       "      <th>categoria</th>\n",
       "    </tr>\n",
       "  </thead>\n",
       "  <tbody>\n",
       "    <tr>\n",
       "      <th>0</th>\n",
       "      <td>project,gutenberg,ebook,merchant,venice,willia...</td>\n",
       "      <td>shakespeare_the_merchant_of_venice</td>\n",
       "    </tr>\n",
       "    <tr>\n",
       "      <th>1</th>\n",
       "      <td>project,gutenberg,ebook,romeo,juliet,william,s...</td>\n",
       "      <td>shakespeare_romeo_juliet</td>\n",
       "    </tr>\n",
       "    <tr>\n",
       "      <th>2</th>\n",
       "      <td>project,gutenberg,ebook,hamlet,william,shakesp...</td>\n",
       "      <td>shakespeare_hamlet</td>\n",
       "    </tr>\n",
       "    <tr>\n",
       "      <th>3</th>\n",
       "      <td>project,gutenberg,ebook,christmas,carol,charle...</td>\n",
       "      <td>dickens_a_christmas_carol</td>\n",
       "    </tr>\n",
       "    <tr>\n",
       "      <th>4</th>\n",
       "      <td>project,gutenberg,ebook,oliver,twist,charles,d...</td>\n",
       "      <td>dickens_oliver_twist</td>\n",
       "    </tr>\n",
       "    <tr>\n",
       "      <th>5</th>\n",
       "      <td>project,gutenberg,ebook,tale,two,city,charles,...</td>\n",
       "      <td>dickens_a_tale_of_two_cities</td>\n",
       "    </tr>\n",
       "  </tbody>\n",
       "</table>\n",
       "</div>"
      ],
      "text/plain": [
       "                                           documento  \\\n",
       "0  project,gutenberg,ebook,merchant,venice,willia...   \n",
       "1  project,gutenberg,ebook,romeo,juliet,william,s...   \n",
       "2  project,gutenberg,ebook,hamlet,william,shakesp...   \n",
       "3  project,gutenberg,ebook,christmas,carol,charle...   \n",
       "4  project,gutenberg,ebook,oliver,twist,charles,d...   \n",
       "5  project,gutenberg,ebook,tale,two,city,charles,...   \n",
       "\n",
       "                            categoria  \n",
       "0  shakespeare_the_merchant_of_venice  \n",
       "1            shakespeare_romeo_juliet  \n",
       "2                  shakespeare_hamlet  \n",
       "3           dickens_a_christmas_carol  \n",
       "4                dickens_oliver_twist  \n",
       "5        dickens_a_tale_of_two_cities  "
      ]
     },
     "execution_count": 2,
     "metadata": {},
     "output_type": "execute_result"
    }
   ],
   "source": [
    "etiquetas = [\"shakespeare_the_merchant_of_venice\", \n",
    "             \"shakespeare_romeo_juliet\", \n",
    "             \"shakespeare_hamlet\", \n",
    "             \"dickens_a_christmas_carol\", \n",
    "             \"dickens_oliver_twist\",\n",
    "             \"dickens_a_tale_of_two_cities\"]\n",
    "corpus = []\n",
    "\n",
    "for etiqueta in etiquetas:\n",
    "  archivo = open(f\"data/{etiqueta}.txt\", \"r\")\n",
    "  corpus.append(archivo.read())\n",
    "  archivo.close()\n",
    "\n",
    "etiquetas = [\"shakespeare_the_merchant_of_venice\", \n",
    "             \"shakespeare_romeo_juliet\", \n",
    "             \"shakespeare_hamlet\", \n",
    "             \"dickens_a_christmas_carol\", \n",
    "             \"dickens_oliver_twist\",\n",
    "             \"dickens_a_tale_of_two_cities\"]\n",
    "\n",
    "corpus = np.array(corpus)\n",
    "df_corpus = pd.DataFrame({\"documento\": corpus, \n",
    "                          \"categoria\": etiquetas})\n",
    "df_corpus"
   ]
  },
  {
   "cell_type": "markdown",
   "metadata": {},
   "source": [
    "# Modelo de Bolsa de Palabras"
   ]
  },
  {
   "cell_type": "code",
   "execution_count": 3,
   "metadata": {},
   "outputs": [
    {
     "data": {
      "text/plain": [
       "<6x15164 sparse matrix of type '<class 'numpy.int64'>'\n",
       "\twith 30424 stored elements in Compressed Sparse Row format>"
      ]
     },
     "execution_count": 3,
     "metadata": {},
     "output_type": "execute_result"
    }
   ],
   "source": [
    "from sklearn.feature_extraction.text import CountVectorizer\n",
    "# bolsa de palabras en matriz dispersa\n",
    "count_vectorizer = CountVectorizer(min_df=0.0, max_df=1.0)\n",
    "matriz_conteo = count_vectorizer.fit_transform(corpus)\n",
    "matriz_conteo"
   ]
  },
  {
   "cell_type": "code",
   "execution_count": 4,
   "metadata": {},
   "outputs": [
    {
     "name": "stdout",
     "output_type": "stream",
     "text": [
      "  (0, 10315)\t90\n",
      "  (0, 6108)\t99\n",
      "  (0, 4317)\t20\n",
      "  (0, 8386)\t20\n",
      "  (0, 14294)\t45\n",
      "  (0, 14871)\t4\n",
      "  (0, 11781)\t5\n",
      "  (0, 1652)\t8\n",
      "  (0, 8214)\t17\n",
      "  (0, 11189)\t18\n",
      "  (0, 59)\t2\n",
      "  (0, 7745)\t36\n",
      "  (0, 13227)\t12\n",
      "  (0, 567)\t5\n",
      "  (0, 7486)\t1\n",
      "  (0, 1783)\t11\n",
      "  (0, 9390)\t5\n",
      "  (0, 1065)\t1\n",
      "  (0, 4611)\t1\n",
      "  (0, 6611)\t1\n",
      "  (0, 14849)\t1\n",
      "  (0, 183)\t1\n",
      "  (0, 13475)\t8\n",
      "  (0, 85)\t7\n",
      "  (0, 1710)\t6\n",
      "  :\t:\n",
      "  (5, 8286)\t1\n",
      "  (5, 10631)\t1\n",
      "  (5, 4475)\t1\n",
      "  (5, 5110)\t1\n",
      "  (5, 7418)\t1\n",
      "  (5, 2381)\t1\n",
      "  (5, 8105)\t1\n",
      "  (5, 829)\t1\n",
      "  (5, 2223)\t1\n",
      "  (5, 3206)\t1\n",
      "  (5, 3277)\t1\n",
      "  (5, 1047)\t1\n",
      "  (5, 4837)\t1\n",
      "  (5, 6348)\t1\n",
      "  (5, 244)\t2\n",
      "  (5, 11380)\t1\n",
      "  (5, 9754)\t1\n",
      "  (5, 14795)\t1\n",
      "  (5, 13303)\t1\n",
      "  (5, 13858)\t1\n",
      "  (5, 8390)\t1\n",
      "  (5, 11826)\t1\n",
      "  (5, 9584)\t1\n",
      "  (5, 4822)\t1\n",
      "  (5, 696)\t1\n"
     ]
    }
   ],
   "source": [
    "# ver valores diferentes de cero en la matriz dispersa\n",
    "print(matriz_conteo)"
   ]
  },
  {
   "cell_type": "code",
   "execution_count": 5,
   "metadata": {},
   "outputs": [
    {
     "data": {
      "text/plain": [
       "array([[1, 0, 0, ..., 0, 0, 0],\n",
       "       [3, 0, 0, ..., 1, 0, 2],\n",
       "       [3, 0, 1, ..., 2, 1, 0],\n",
       "       [1, 1, 0, ..., 1, 0, 0],\n",
       "       [1, 0, 0, ..., 0, 0, 0],\n",
       "       [1, 0, 0, ..., 1, 0, 0]], dtype=int64)"
      ]
     },
     "execution_count": 5,
     "metadata": {},
     "output_type": "execute_result"
    }
   ],
   "source": [
    "# ver la representación densa\n",
    "matriz_conteo = matriz_conteo.toarray()\n",
    "matriz_conteo"
   ]
  },
  {
   "cell_type": "code",
   "execution_count": 15,
   "metadata": {},
   "outputs": [
    {
     "data": {
      "text/html": [
       "<div>\n",
       "<style scoped>\n",
       "    .dataframe tbody tr th:only-of-type {\n",
       "        vertical-align: middle;\n",
       "    }\n",
       "\n",
       "    .dataframe tbody tr th {\n",
       "        vertical-align: top;\n",
       "    }\n",
       "\n",
       "    .dataframe thead th {\n",
       "        text-align: right;\n",
       "    }\n",
       "</style>\n",
       "<table border=\"1\" class=\"dataframe\">\n",
       "  <thead>\n",
       "    <tr style=\"text-align: right;\">\n",
       "      <th></th>\n",
       "      <th>000</th>\n",
       "      <th>00033</th>\n",
       "      <th>04</th>\n",
       "      <th>08</th>\n",
       "      <th>0em</th>\n",
       "      <th>10</th>\n",
       "      <th>100</th>\n",
       "      <th>101</th>\n",
       "      <th>102</th>\n",
       "      <th>103</th>\n",
       "      <th>...</th>\n",
       "      <th>yourn</th>\n",
       "      <th>youth</th>\n",
       "      <th>youthful</th>\n",
       "      <th>youthfulness</th>\n",
       "      <th>zeal</th>\n",
       "      <th>zealous</th>\n",
       "      <th>zenith</th>\n",
       "      <th>zip</th>\n",
       "      <th>zone</th>\n",
       "      <th>zounds</th>\n",
       "    </tr>\n",
       "  </thead>\n",
       "  <tbody>\n",
       "    <tr>\n",
       "      <th>shakespeare_the_merchant_of_venice</th>\n",
       "      <td>1</td>\n",
       "      <td>0</td>\n",
       "      <td>0</td>\n",
       "      <td>0</td>\n",
       "      <td>2</td>\n",
       "      <td>0</td>\n",
       "      <td>0</td>\n",
       "      <td>0</td>\n",
       "      <td>0</td>\n",
       "      <td>0</td>\n",
       "      <td>...</td>\n",
       "      <td>0</td>\n",
       "      <td>8</td>\n",
       "      <td>1</td>\n",
       "      <td>0</td>\n",
       "      <td>1</td>\n",
       "      <td>0</td>\n",
       "      <td>0</td>\n",
       "      <td>0</td>\n",
       "      <td>0</td>\n",
       "      <td>0</td>\n",
       "    </tr>\n",
       "    <tr>\n",
       "      <th>shakespeare_romeo_juliet</th>\n",
       "      <td>3</td>\n",
       "      <td>0</td>\n",
       "      <td>0</td>\n",
       "      <td>1</td>\n",
       "      <td>0</td>\n",
       "      <td>2</td>\n",
       "      <td>1</td>\n",
       "      <td>0</td>\n",
       "      <td>0</td>\n",
       "      <td>0</td>\n",
       "      <td>...</td>\n",
       "      <td>0</td>\n",
       "      <td>6</td>\n",
       "      <td>3</td>\n",
       "      <td>0</td>\n",
       "      <td>0</td>\n",
       "      <td>0</td>\n",
       "      <td>0</td>\n",
       "      <td>1</td>\n",
       "      <td>0</td>\n",
       "      <td>2</td>\n",
       "    </tr>\n",
       "    <tr>\n",
       "      <th>shakespeare_hamlet</th>\n",
       "      <td>3</td>\n",
       "      <td>0</td>\n",
       "      <td>1</td>\n",
       "      <td>0</td>\n",
       "      <td>0</td>\n",
       "      <td>2</td>\n",
       "      <td>3</td>\n",
       "      <td>0</td>\n",
       "      <td>0</td>\n",
       "      <td>0</td>\n",
       "      <td>...</td>\n",
       "      <td>0</td>\n",
       "      <td>14</td>\n",
       "      <td>0</td>\n",
       "      <td>0</td>\n",
       "      <td>0</td>\n",
       "      <td>0</td>\n",
       "      <td>0</td>\n",
       "      <td>2</td>\n",
       "      <td>1</td>\n",
       "      <td>0</td>\n",
       "    </tr>\n",
       "    <tr>\n",
       "      <th>dickens_a_christmas_carol</th>\n",
       "      <td>1</td>\n",
       "      <td>1</td>\n",
       "      <td>0</td>\n",
       "      <td>0</td>\n",
       "      <td>0</td>\n",
       "      <td>2</td>\n",
       "      <td>2</td>\n",
       "      <td>1</td>\n",
       "      <td>1</td>\n",
       "      <td>1</td>\n",
       "      <td>...</td>\n",
       "      <td>0</td>\n",
       "      <td>1</td>\n",
       "      <td>0</td>\n",
       "      <td>0</td>\n",
       "      <td>1</td>\n",
       "      <td>0</td>\n",
       "      <td>0</td>\n",
       "      <td>1</td>\n",
       "      <td>0</td>\n",
       "      <td>0</td>\n",
       "    </tr>\n",
       "    <tr>\n",
       "      <th>dickens_oliver_twist</th>\n",
       "      <td>1</td>\n",
       "      <td>0</td>\n",
       "      <td>0</td>\n",
       "      <td>0</td>\n",
       "      <td>2</td>\n",
       "      <td>0</td>\n",
       "      <td>0</td>\n",
       "      <td>0</td>\n",
       "      <td>0</td>\n",
       "      <td>0</td>\n",
       "      <td>...</td>\n",
       "      <td>0</td>\n",
       "      <td>9</td>\n",
       "      <td>6</td>\n",
       "      <td>0</td>\n",
       "      <td>0</td>\n",
       "      <td>2</td>\n",
       "      <td>1</td>\n",
       "      <td>0</td>\n",
       "      <td>0</td>\n",
       "      <td>0</td>\n",
       "    </tr>\n",
       "    <tr>\n",
       "      <th>dickens_a_tale_of_two_cities</th>\n",
       "      <td>1</td>\n",
       "      <td>0</td>\n",
       "      <td>0</td>\n",
       "      <td>0</td>\n",
       "      <td>0</td>\n",
       "      <td>2</td>\n",
       "      <td>0</td>\n",
       "      <td>0</td>\n",
       "      <td>0</td>\n",
       "      <td>0</td>\n",
       "      <td>...</td>\n",
       "      <td>1</td>\n",
       "      <td>10</td>\n",
       "      <td>3</td>\n",
       "      <td>1</td>\n",
       "      <td>0</td>\n",
       "      <td>2</td>\n",
       "      <td>0</td>\n",
       "      <td>1</td>\n",
       "      <td>0</td>\n",
       "      <td>0</td>\n",
       "    </tr>\n",
       "  </tbody>\n",
       "</table>\n",
       "<p>6 rows × 15164 columns</p>\n",
       "</div>"
      ],
      "text/plain": [
       "                                    000  00033  04  08  0em  10  100  101  \\\n",
       "shakespeare_the_merchant_of_venice    1      0   0   0    2   0    0    0   \n",
       "shakespeare_romeo_juliet              3      0   0   1    0   2    1    0   \n",
       "shakespeare_hamlet                    3      0   1   0    0   2    3    0   \n",
       "dickens_a_christmas_carol             1      1   0   0    0   2    2    1   \n",
       "dickens_oliver_twist                  1      0   0   0    2   0    0    0   \n",
       "dickens_a_tale_of_two_cities          1      0   0   0    0   2    0    0   \n",
       "\n",
       "                                    102  103  ...  yourn  youth  youthful  \\\n",
       "shakespeare_the_merchant_of_venice    0    0  ...      0      8         1   \n",
       "shakespeare_romeo_juliet              0    0  ...      0      6         3   \n",
       "shakespeare_hamlet                    0    0  ...      0     14         0   \n",
       "dickens_a_christmas_carol             1    1  ...      0      1         0   \n",
       "dickens_oliver_twist                  0    0  ...      0      9         6   \n",
       "dickens_a_tale_of_two_cities          0    0  ...      1     10         3   \n",
       "\n",
       "                                    youthfulness  zeal  zealous  zenith  zip  \\\n",
       "shakespeare_the_merchant_of_venice             0     1        0       0    0   \n",
       "shakespeare_romeo_juliet                       0     0        0       0    1   \n",
       "shakespeare_hamlet                             0     0        0       0    2   \n",
       "dickens_a_christmas_carol                      0     1        0       0    1   \n",
       "dickens_oliver_twist                           0     0        2       1    0   \n",
       "dickens_a_tale_of_two_cities                   1     0        2       0    1   \n",
       "\n",
       "                                    zone  zounds  \n",
       "shakespeare_the_merchant_of_venice     0       0  \n",
       "shakespeare_romeo_juliet               0       2  \n",
       "shakespeare_hamlet                     1       0  \n",
       "dickens_a_christmas_carol              0       0  \n",
       "dickens_oliver_twist                   0       0  \n",
       "dickens_a_tale_of_two_cities           0       0  \n",
       "\n",
       "[6 rows x 15164 columns]"
      ]
     },
     "execution_count": 15,
     "metadata": {},
     "output_type": "execute_result"
    }
   ],
   "source": [
    "# obten todas las palabras únicas del corpus\n",
    "vocabulario = count_vectorizer.get_feature_names_out()\n",
    "# muestra los vectores de características del documento\n",
    "pd.DataFrame(matriz_conteo, columns=vocabulario, index=etiquetas)"
   ]
  },
  {
   "cell_type": "markdown",
   "metadata": {},
   "source": [
    "# Vocabulario (número de columnas de la matriz)"
   ]
  },
  {
   "cell_type": "code",
   "execution_count": 7,
   "metadata": {},
   "outputs": [
    {
     "name": "stdout",
     "output_type": "stream",
     "text": [
      "15164 ['000' '00033' '04' ... 'zip' 'zone' 'zounds']\n"
     ]
    }
   ],
   "source": [
    "print(len(vocabulario), vocabulario)"
   ]
  },
  {
   "cell_type": "code",
   "execution_count": 14,
   "metadata": {},
   "outputs": [],
   "source": [
    "np.savetxt('data/vocabulario.txt', vocabulario, fmt='%s')"
   ]
  },
  {
   "cell_type": "code",
   "execution_count": 16,
   "metadata": {},
   "outputs": [
    {
     "name": "stdout",
     "output_type": "stream",
     "text": [
      "['shakespeare_the_merchant_of_venice', 'shakespeare_romeo_juliet', 'shakespeare_hamlet', 'dickens_a_christmas_carol', 'dickens_oliver_twist', 'dickens_a_tale_of_two_cities']\n"
     ]
    }
   ],
   "source": [
    "print(etiquetas)"
   ]
  },
  {
   "cell_type": "code",
   "execution_count": null,
   "metadata": {},
   "outputs": [],
   "source": []
  }
 ],
 "metadata": {
  "kernelspec": {
   "display_name": "Python 3.10.8 ('ComParalelo': venv)",
   "language": "python",
   "name": "python3"
  },
  "language_info": {
   "codemirror_mode": {
    "name": "ipython",
    "version": 3
   },
   "file_extension": ".py",
   "mimetype": "text/x-python",
   "name": "python",
   "nbconvert_exporter": "python",
   "pygments_lexer": "ipython3",
   "version": "3.10.8"
  },
  "orig_nbformat": 4,
  "vscode": {
   "interpreter": {
    "hash": "de6cc0a045338ff87fe534919de29e4b4b978258f1607e93cf7c9800e1c0552d"
   }
  }
 },
 "nbformat": 4,
 "nbformat_minor": 2
}
